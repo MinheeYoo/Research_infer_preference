{
 "cells": [
  {
   "cell_type": "code",
   "execution_count": 1,
   "id": "6eed9bd7",
   "metadata": {},
   "outputs": [
    {
     "name": "stderr",
     "output_type": "stream",
     "text": [
      "/Users/minheeyoo/opt/anaconda3/envs/hddmenv/lib/python3.6/site-packages/IPython/parallel.py:13: ShimWarning: The `IPython.parallel` package has been deprecated since IPython 4.0. You should import from ipyparallel instead.\n",
      "  \"You should import from ipyparallel instead.\", ShimWarning)\n"
     ]
    }
   ],
   "source": [
    "import os\n",
    "import hddm\n",
    "import pickle\n",
    "from kabuki.analyze import gelman_rubin\n",
    "import kabuki\n",
    "from IPython.parallel import Client"
   ]
  },
  {
   "cell_type": "code",
   "execution_count": 2,
   "id": "cc111867",
   "metadata": {},
   "outputs": [
    {
     "data": {
      "text/html": [
       "<div>\n",
       "<style scoped>\n",
       "    .dataframe tbody tr th:only-of-type {\n",
       "        vertical-align: middle;\n",
       "    }\n",
       "\n",
       "    .dataframe tbody tr th {\n",
       "        vertical-align: top;\n",
       "    }\n",
       "\n",
       "    .dataframe thead th {\n",
       "        text-align: right;\n",
       "    }\n",
       "</style>\n",
       "<table border=\"1\" class=\"dataframe\">\n",
       "  <thead>\n",
       "    <tr style=\"text-align: right;\">\n",
       "      <th></th>\n",
       "      <th>subj_idx</th>\n",
       "      <th>response</th>\n",
       "      <th>rt</th>\n",
       "      <th>x1</th>\n",
       "      <th>x2</th>\n",
       "      <th>x3</th>\n",
       "      <th>x4</th>\n",
       "      <th>x5</th>\n",
       "      <th>x6</th>\n",
       "    </tr>\n",
       "  </thead>\n",
       "  <tbody>\n",
       "    <tr>\n",
       "      <th>0</th>\n",
       "      <td>1</td>\n",
       "      <td>0</td>\n",
       "      <td>0.562</td>\n",
       "      <td>0</td>\n",
       "      <td>0</td>\n",
       "      <td>0</td>\n",
       "      <td>-1</td>\n",
       "      <td>0</td>\n",
       "      <td>1</td>\n",
       "    </tr>\n",
       "    <tr>\n",
       "      <th>1</th>\n",
       "      <td>1</td>\n",
       "      <td>1</td>\n",
       "      <td>0.456</td>\n",
       "      <td>-1</td>\n",
       "      <td>0</td>\n",
       "      <td>0</td>\n",
       "      <td>0</td>\n",
       "      <td>1</td>\n",
       "      <td>0</td>\n",
       "    </tr>\n",
       "    <tr>\n",
       "      <th>2</th>\n",
       "      <td>1</td>\n",
       "      <td>0</td>\n",
       "      <td>0.689</td>\n",
       "      <td>0</td>\n",
       "      <td>-1</td>\n",
       "      <td>1</td>\n",
       "      <td>0</td>\n",
       "      <td>0</td>\n",
       "      <td>0</td>\n",
       "    </tr>\n",
       "    <tr>\n",
       "      <th>3</th>\n",
       "      <td>1</td>\n",
       "      <td>1</td>\n",
       "      <td>0.491</td>\n",
       "      <td>-1</td>\n",
       "      <td>0</td>\n",
       "      <td>0</td>\n",
       "      <td>1</td>\n",
       "      <td>0</td>\n",
       "      <td>0</td>\n",
       "    </tr>\n",
       "    <tr>\n",
       "      <th>4</th>\n",
       "      <td>1</td>\n",
       "      <td>1</td>\n",
       "      <td>0.435</td>\n",
       "      <td>-1</td>\n",
       "      <td>0</td>\n",
       "      <td>0</td>\n",
       "      <td>1</td>\n",
       "      <td>0</td>\n",
       "      <td>0</td>\n",
       "    </tr>\n",
       "    <tr>\n",
       "      <th>...</th>\n",
       "      <td>...</td>\n",
       "      <td>...</td>\n",
       "      <td>...</td>\n",
       "      <td>...</td>\n",
       "      <td>...</td>\n",
       "      <td>...</td>\n",
       "      <td>...</td>\n",
       "      <td>...</td>\n",
       "      <td>...</td>\n",
       "    </tr>\n",
       "    <tr>\n",
       "      <th>4661</th>\n",
       "      <td>1</td>\n",
       "      <td>1</td>\n",
       "      <td>0.548</td>\n",
       "      <td>0</td>\n",
       "      <td>0</td>\n",
       "      <td>0</td>\n",
       "      <td>-1</td>\n",
       "      <td>0</td>\n",
       "      <td>1</td>\n",
       "    </tr>\n",
       "    <tr>\n",
       "      <th>4662</th>\n",
       "      <td>1</td>\n",
       "      <td>1</td>\n",
       "      <td>0.619</td>\n",
       "      <td>0</td>\n",
       "      <td>-1</td>\n",
       "      <td>0</td>\n",
       "      <td>0</td>\n",
       "      <td>1</td>\n",
       "      <td>0</td>\n",
       "    </tr>\n",
       "    <tr>\n",
       "      <th>4663</th>\n",
       "      <td>1</td>\n",
       "      <td>1</td>\n",
       "      <td>0.598</td>\n",
       "      <td>-1</td>\n",
       "      <td>1</td>\n",
       "      <td>0</td>\n",
       "      <td>0</td>\n",
       "      <td>0</td>\n",
       "      <td>0</td>\n",
       "    </tr>\n",
       "    <tr>\n",
       "      <th>4664</th>\n",
       "      <td>1</td>\n",
       "      <td>1</td>\n",
       "      <td>0.530</td>\n",
       "      <td>0</td>\n",
       "      <td>0</td>\n",
       "      <td>0</td>\n",
       "      <td>0</td>\n",
       "      <td>-1</td>\n",
       "      <td>1</td>\n",
       "    </tr>\n",
       "    <tr>\n",
       "      <th>4665</th>\n",
       "      <td>1</td>\n",
       "      <td>1</td>\n",
       "      <td>0.569</td>\n",
       "      <td>0</td>\n",
       "      <td>0</td>\n",
       "      <td>0</td>\n",
       "      <td>-1</td>\n",
       "      <td>0</td>\n",
       "      <td>1</td>\n",
       "    </tr>\n",
       "  </tbody>\n",
       "</table>\n",
       "<p>4666 rows × 9 columns</p>\n",
       "</div>"
      ],
      "text/plain": [
       "      subj_idx  response     rt  x1  x2  x3  x4  x5  x6\n",
       "0            1         0  0.562   0   0   0  -1   0   1\n",
       "1            1         1  0.456  -1   0   0   0   1   0\n",
       "2            1         0  0.689   0  -1   1   0   0   0\n",
       "3            1         1  0.491  -1   0   0   1   0   0\n",
       "4            1         1  0.435  -1   0   0   1   0   0\n",
       "...        ...       ...    ...  ..  ..  ..  ..  ..  ..\n",
       "4661         1         1  0.548   0   0   0  -1   0   1\n",
       "4662         1         1  0.619   0  -1   0   0   1   0\n",
       "4663         1         1  0.598  -1   1   0   0   0   0\n",
       "4664         1         1  0.530   0   0   0   0  -1   1\n",
       "4665         1         1  0.569   0   0   0  -1   0   1\n",
       "\n",
       "[4666 rows x 9 columns]"
      ]
     },
     "execution_count": 2,
     "metadata": {},
     "output_type": "execute_result"
    }
   ],
   "source": [
    "data = hddm.load_csv('CavanaghDataset_full_hddm.csv')\n",
    "data"
   ]
  },
  {
   "cell_type": "code",
   "execution_count": 3,
   "id": "a5c922d8",
   "metadata": {},
   "outputs": [],
   "source": [
    "def run_model(i):\n",
    "    import os\n",
    "    import hddm\n",
    "    import pickle\n",
    "    pathAnalysis = '/project/Cavanagh'\n",
    "    os.chdir(pathAnalysis)\n",
    "    data = hddm.load_csv(pathAnalysis + '/' + 'CavanaghDataset_full_hddm.csv')\n",
    "    # Fit model\n",
    "    v_reg = {'model': 'v ~ 0+x1+x2+x3+x4+x5+x6', \n",
    "             'link_func': lambda x: x}\n",
    "    reg_descr = [v_reg]\n",
    "    m = hddm.HDDMRegressor(data, reg_descr, \n",
    "                           group_only_regressors=False, \n",
    "                           p_outlier = 0.0)\n",
    "    m.sample(10000, burn=4000, dbname='Cavanagh_chain%i.db'%i, db='pickle')\n",
    "    return m"
   ]
  },
  {
   "cell_type": "code",
   "execution_count": 4,
   "id": "1cc4725f",
   "metadata": {},
   "outputs": [
    {
     "name": "stdout",
     "output_type": "stream",
     "text": [
      "WARNING: Custom link functions will not be loaded.\n",
      "WARNING: Custom link functions will not be loaded.\n",
      "WARNING: Custom link functions will not be loaded.\n",
      "WARNING: Custom link functions will not be loaded.\n"
     ]
    }
   ],
   "source": [
    "v = Client()[:]\n",
    "jobs = v.map(run_model, range(4)) # 4 is the number of CPUs\n",
    "model_set = jobs.get()"
   ]
  },
  {
   "cell_type": "code",
   "execution_count": 5,
   "id": "c7e0d4c9",
   "metadata": {},
   "outputs": [
    {
     "name": "stdout",
     "output_type": "stream",
     "text": [
      "WARNING: Will not save custom link functions.\n",
      "WARNING: Will not save custom link functions.\n",
      "WARNING: Will not save custom link functions.\n",
      "WARNING: Will not save custom link functions.\n"
     ]
    }
   ],
   "source": [
    "# save model set\n",
    "with open('Cavanagh_hddm_models', 'wb') as f:\n",
    "    pickle.dump(model_set, f)"
   ]
  },
  {
   "cell_type": "code",
   "execution_count": 6,
   "id": "729da5c4",
   "metadata": {},
   "outputs": [
    {
     "name": "stdout",
     "output_type": "stream",
     "text": [
      "WARNING: Custom link functions will not be loaded.\n"
     ]
    }
   ],
   "source": [
    "models = kabuki.utils.concat_models(model_set)"
   ]
  },
  {
   "cell_type": "code",
   "execution_count": 8,
   "id": "e525d4f0",
   "metadata": {},
   "outputs": [],
   "source": [
    "# save stats\n",
    "path = '/project/Cavanagh'\n",
    "# save samples\n",
    "samples = models.get_traces()\n",
    "samples.to_csv(path + '/'+'Cavanagh_samples.csv')"
   ]
  },
  {
   "cell_type": "code",
   "execution_count": null,
   "id": "0337e2b6",
   "metadata": {},
   "outputs": [],
   "source": []
  },
  {
   "cell_type": "code",
   "execution_count": null,
   "id": "1a518d70",
   "metadata": {},
   "outputs": [],
   "source": []
  }
 ],
 "metadata": {
  "kernelspec": {
   "display_name": "Python 3",
   "language": "python",
   "name": "python3"
  },
  "language_info": {
   "codemirror_mode": {
    "name": "ipython",
    "version": 3
   },
   "file_extension": ".py",
   "mimetype": "text/x-python",
   "name": "python",
   "nbconvert_exporter": "python",
   "pygments_lexer": "ipython3",
   "version": "3.8.8"
  }
 },
 "nbformat": 4,
 "nbformat_minor": 5
}
